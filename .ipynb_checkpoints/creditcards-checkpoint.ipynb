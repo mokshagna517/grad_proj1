import pandas as pd
import numpy as np
import matplotlib.pyplot as plt
from sklearn import preprocessing
from sklearn.linear_model import LogisticRegression
from sklearn.model_selection import train_test_split
import seaborn as sns
sns.set(style="white")
sns.set(style="whitegrid", color_codes=True)


data_file="customers.xlsx"
customer_data=pd.read_excel(data_file)
sex=pd.get_dummies(customer_data['Sex'], drop_first=True)
savings_acc=pd.get_dummies(customer_data['Savings acc'], drop_first=True)

customer_data.drop(['Post code','Sex','Location','Current Account', 'Savings acc', 'ISA'], axis=1, inplace=True)
customer_data=pd.concat([customer_data, savings_acc], axis=1)
creditcard=[]


for i in range(len(customer_data)):
    if((customer_data.loc[i,'Credit card balance'])>0):
        creditcard.append(1)
    else:
        creditcard.append(0)
customer_data['has_Creditcard']=pd.Series(creditcard)
customer_data.head()


customer_data.drop('Credit card balance',axis=1, inplace=True)

X_train, X_test, y_train, y_test = train_test_split(customer_data.drop('has_Creditcard',axis=1), 
           customer_data['has_Creditcard'], test_size=0.2, 
            random_state=100)

logmodel = LogisticRegression(max_iter=10000000,solver='saga', penalty='l1')
logmodel.fit(X_train, y_train)

train_pred=logmodel.predict(X_train)
Predictions = logmodel.predict(X_test)

from sklearn.metrics import classification_report
print(classification_report(y_test,Predictions))
print(classification_report(y_train, train_pred))


from sklearn.metrics import confusion_matrix
print(confusion_matrix(y_test, Predictions))
print(confusion_matrix(y_train, train_pred))

from sklearn.metrics import accuracy_score
print(accuracy_score(y_test, Predictions))
print(accuracy_score(y_train, train_pred))
