{
 "cells": [
  {
   "cell_type": "code",
   "execution_count": 1,
   "metadata": {},
   "outputs": [],
   "source": [
    "import pandas as pd\n",
    "import numpy as np\n",
    "import matplotlib.pyplot as plt\n",
    "from sklearn import preprocessing\n",
    "from sklearn.linear_model import LogisticRegression\n",
    "from sklearn.model_selection import train_test_split\n",
    "import seaborn as sns\n",
    "sns.set(style=\"white\")\n",
    "sns.set(style=\"whitegrid\", color_codes=True)"
   ]
  },
  {
   "cell_type": "code",
   "execution_count": 2,
   "metadata": {},
   "outputs": [
    {
     "data": {
      "text/html": [
       "<div>\n",
       "<style scoped>\n",
       "    .dataframe tbody tr th:only-of-type {\n",
       "        vertical-align: middle;\n",
       "    }\n",
       "\n",
       "    .dataframe tbody tr th {\n",
       "        vertical-align: top;\n",
       "    }\n",
       "\n",
       "    .dataframe thead th {\n",
       "        text-align: right;\n",
       "    }\n",
       "</style>\n",
       "<table border=\"1\" class=\"dataframe\">\n",
       "  <thead>\n",
       "    <tr style=\"text-align: right;\">\n",
       "      <th></th>\n",
       "      <th>ID</th>\n",
       "      <th>Age</th>\n",
       "      <th>Sex</th>\n",
       "      <th>Post code</th>\n",
       "      <th>Location</th>\n",
       "      <th>Average Balance</th>\n",
       "      <th>Monthly Income</th>\n",
       "      <th>Credit card balance</th>\n",
       "      <th>Mortgage balance</th>\n",
       "      <th>Current Account</th>\n",
       "      <th>Overdraft</th>\n",
       "      <th>Savings acc</th>\n",
       "      <th>ISA</th>\n",
       "    </tr>\n",
       "  </thead>\n",
       "  <tbody>\n",
       "    <tr>\n",
       "      <th>0</th>\n",
       "      <td>1</td>\n",
       "      <td>22</td>\n",
       "      <td>F</td>\n",
       "      <td>TR</td>\n",
       "      <td>Truro</td>\n",
       "      <td>50</td>\n",
       "      <td>122</td>\n",
       "      <td>300</td>\n",
       "      <td>0</td>\n",
       "      <td>Student</td>\n",
       "      <td>0</td>\n",
       "      <td>Savings Builder</td>\n",
       "      <td>Help toBuy: ISA</td>\n",
       "    </tr>\n",
       "    <tr>\n",
       "      <th>1</th>\n",
       "      <td>2</td>\n",
       "      <td>20</td>\n",
       "      <td>M</td>\n",
       "      <td>PA</td>\n",
       "      <td>Paisley</td>\n",
       "      <td>127</td>\n",
       "      <td>748</td>\n",
       "      <td>762</td>\n",
       "      <td>0</td>\n",
       "      <td>Student</td>\n",
       "      <td>0</td>\n",
       "      <td>Savings Builder</td>\n",
       "      <td>Help toBuy: ISA</td>\n",
       "    </tr>\n",
       "    <tr>\n",
       "      <th>2</th>\n",
       "      <td>3</td>\n",
       "      <td>61</td>\n",
       "      <td>F</td>\n",
       "      <td>G</td>\n",
       "      <td>Glasgow</td>\n",
       "      <td>2490</td>\n",
       "      <td>7297</td>\n",
       "      <td>0</td>\n",
       "      <td>0</td>\n",
       "      <td>Everyday select</td>\n",
       "      <td>1</td>\n",
       "      <td>Instant Saver</td>\n",
       "      <td>Fixed Rate ISA</td>\n",
       "    </tr>\n",
       "    <tr>\n",
       "      <th>3</th>\n",
       "      <td>4</td>\n",
       "      <td>50</td>\n",
       "      <td>F</td>\n",
       "      <td>CR</td>\n",
       "      <td>Croydon</td>\n",
       "      <td>2852</td>\n",
       "      <td>7486</td>\n",
       "      <td>19964</td>\n",
       "      <td>0</td>\n",
       "      <td>Reward1</td>\n",
       "      <td>0</td>\n",
       "      <td>NaN</td>\n",
       "      <td>Fixed Rate ISA</td>\n",
       "    </tr>\n",
       "    <tr>\n",
       "      <th>4</th>\n",
       "      <td>5</td>\n",
       "      <td>41</td>\n",
       "      <td>F</td>\n",
       "      <td>CF</td>\n",
       "      <td>Cardiff</td>\n",
       "      <td>2942</td>\n",
       "      <td>7461</td>\n",
       "      <td>0</td>\n",
       "      <td>208908</td>\n",
       "      <td>Reward1</td>\n",
       "      <td>0</td>\n",
       "      <td>NaN</td>\n",
       "      <td>NaN</td>\n",
       "    </tr>\n",
       "  </tbody>\n",
       "</table>\n",
       "</div>"
      ],
      "text/plain": [
       "   ID  Age Sex Post code Location  Average Balance  Monthly Income  \\\n",
       "0   1   22   F        TR    Truro               50             122   \n",
       "1   2   20   M        PA  Paisley              127             748   \n",
       "2   3   61   F         G  Glasgow             2490            7297   \n",
       "3   4   50   F        CR  Croydon             2852            7486   \n",
       "4   5   41   F        CF  Cardiff             2942            7461   \n",
       "\n",
       "   Credit card balance  Mortgage balance  Current Account  Overdraft  \\\n",
       "0                  300                 0          Student          0   \n",
       "1                  762                 0          Student          0   \n",
       "2                    0                 0  Everyday select          1   \n",
       "3                19964                 0          Reward1          0   \n",
       "4                    0            208908          Reward1          0   \n",
       "\n",
       "       Savings acc              ISA  \n",
       "0  Savings Builder  Help toBuy: ISA  \n",
       "1  Savings Builder  Help toBuy: ISA  \n",
       "2    Instant Saver   Fixed Rate ISA  \n",
       "3              NaN   Fixed Rate ISA  \n",
       "4              NaN              NaN  "
      ]
     },
     "execution_count": 2,
     "metadata": {},
     "output_type": "execute_result"
    }
   ],
   "source": [
    "data_file=\"customers.xlsx\"\n",
    "customer_data=pd.read_excel(data_file)\n",
    "customer_data.head()"
   ]
  },
  {
   "cell_type": "code",
   "execution_count": 3,
   "metadata": {},
   "outputs": [
    {
     "data": {
      "text/html": [
       "<div>\n",
       "<style scoped>\n",
       "    .dataframe tbody tr th:only-of-type {\n",
       "        vertical-align: middle;\n",
       "    }\n",
       "\n",
       "    .dataframe tbody tr th {\n",
       "        vertical-align: top;\n",
       "    }\n",
       "\n",
       "    .dataframe thead th {\n",
       "        text-align: right;\n",
       "    }\n",
       "</style>\n",
       "<table border=\"1\" class=\"dataframe\">\n",
       "  <thead>\n",
       "    <tr style=\"text-align: right;\">\n",
       "      <th></th>\n",
       "      <th>ID</th>\n",
       "      <th>Age</th>\n",
       "      <th>Average Balance</th>\n",
       "      <th>Monthly Income</th>\n",
       "      <th>Credit card balance</th>\n",
       "      <th>Mortgage balance</th>\n",
       "      <th>Overdraft</th>\n",
       "      <th>M</th>\n",
       "    </tr>\n",
       "  </thead>\n",
       "  <tbody>\n",
       "    <tr>\n",
       "      <th>0</th>\n",
       "      <td>1</td>\n",
       "      <td>22</td>\n",
       "      <td>50</td>\n",
       "      <td>122</td>\n",
       "      <td>300</td>\n",
       "      <td>0</td>\n",
       "      <td>0</td>\n",
       "      <td>0</td>\n",
       "    </tr>\n",
       "    <tr>\n",
       "      <th>1</th>\n",
       "      <td>2</td>\n",
       "      <td>20</td>\n",
       "      <td>127</td>\n",
       "      <td>748</td>\n",
       "      <td>762</td>\n",
       "      <td>0</td>\n",
       "      <td>0</td>\n",
       "      <td>1</td>\n",
       "    </tr>\n",
       "    <tr>\n",
       "      <th>2</th>\n",
       "      <td>3</td>\n",
       "      <td>61</td>\n",
       "      <td>2490</td>\n",
       "      <td>7297</td>\n",
       "      <td>0</td>\n",
       "      <td>0</td>\n",
       "      <td>1</td>\n",
       "      <td>0</td>\n",
       "    </tr>\n",
       "    <tr>\n",
       "      <th>3</th>\n",
       "      <td>4</td>\n",
       "      <td>50</td>\n",
       "      <td>2852</td>\n",
       "      <td>7486</td>\n",
       "      <td>19964</td>\n",
       "      <td>0</td>\n",
       "      <td>0</td>\n",
       "      <td>0</td>\n",
       "    </tr>\n",
       "    <tr>\n",
       "      <th>4</th>\n",
       "      <td>5</td>\n",
       "      <td>41</td>\n",
       "      <td>2942</td>\n",
       "      <td>7461</td>\n",
       "      <td>0</td>\n",
       "      <td>208908</td>\n",
       "      <td>0</td>\n",
       "      <td>0</td>\n",
       "    </tr>\n",
       "  </tbody>\n",
       "</table>\n",
       "</div>"
      ],
      "text/plain": [
       "   ID  Age  Average Balance  Monthly Income  Credit card balance  \\\n",
       "0   1   22               50             122                  300   \n",
       "1   2   20              127             748                  762   \n",
       "2   3   61             2490            7297                    0   \n",
       "3   4   50             2852            7486                19964   \n",
       "4   5   41             2942            7461                    0   \n",
       "\n",
       "   Mortgage balance  Overdraft  M  \n",
       "0                 0          0  0  \n",
       "1                 0          0  1  \n",
       "2                 0          1  0  \n",
       "3                 0          0  0  \n",
       "4            208908          0  0  "
      ]
     },
     "execution_count": 3,
     "metadata": {},
     "output_type": "execute_result"
    }
   ],
   "source": [
    "sex=pd.get_dummies(customer_data['Sex'], drop_first=True)\n",
    "\n",
    "customer_data.drop('Post code', axis=1, inplace=True)\n",
    "customer_data.drop(['Sex', 'Current Account', 'Location','Savings acc', 'ISA'], axis=1, inplace=True)\n",
    "customer_data=pd.concat([customer_data, sex], axis=1)\n",
    "customer_data.head()\n"
   ]
  },
  {
   "cell_type": "code",
   "execution_count": 27,
   "metadata": {},
   "outputs": [],
   "source": [
    "X_train, X_test, y_train, y_test = train_test_split(customer_data.drop('Overdraft',axis=1), \n",
    "           customer_data['Overdraft'], test_size=0.20, \n",
    "            random_state=200)"
   ]
  },
  {
   "cell_type": "code",
   "execution_count": 28,
   "metadata": {},
   "outputs": [
    {
     "data": {
      "text/plain": [
       "LogisticRegression(C=1.0, class_weight=None, dual=False, fit_intercept=True,\n",
       "          intercept_scaling=1, max_iter=100, multi_class='ovr', n_jobs=1,\n",
       "          penalty='l2', random_state=None, solver='liblinear', tol=0.0001,\n",
       "          verbose=0, warm_start=False)"
      ]
     },
     "execution_count": 28,
     "metadata": {},
     "output_type": "execute_result"
    }
   ],
   "source": [
    "logmodel = LogisticRegression()\n",
    "logmodel.fit(X_train, y_train)\n"
   ]
  },
  {
   "cell_type": "code",
   "execution_count": 29,
   "metadata": {},
   "outputs": [],
   "source": [
    "train_pred=logmodel.predict(X_train)\n",
    "Predictions = logmodel.predict(X_test)"
   ]
  },
  {
   "cell_type": "code",
   "execution_count": 30,
   "metadata": {},
   "outputs": [
    {
     "name": "stdout",
     "output_type": "stream",
     "text": [
      "             precision    recall  f1-score   support\n",
      "\n",
      "          0       0.72      1.00      0.84      1436\n",
      "          1       0.00      0.00      0.00       565\n",
      "\n",
      "avg / total       0.52      0.72      0.60      2001\n",
      "\n",
      "             precision    recall  f1-score   support\n",
      "\n",
      "          0       0.71      1.00      0.83      5653\n",
      "          1       0.00      0.00      0.00      2347\n",
      "\n",
      "avg / total       0.50      0.71      0.59      8000\n",
      "\n"
     ]
    },
    {
     "name": "stderr",
     "output_type": "stream",
     "text": [
      "C:\\Users\\RBS\\Anaconda3\\lib\\site-packages\\sklearn\\metrics\\classification.py:1135: UndefinedMetricWarning: Precision and F-score are ill-defined and being set to 0.0 in labels with no predicted samples.\n",
      "  'precision', 'predicted', average, warn_for)\n"
     ]
    }
   ],
   "source": [
    "from sklearn.metrics import classification_report\n",
    "print(classification_report(y_test,Predictions))\n",
    "print(classification_report(y_train, train_pred))"
   ]
  },
  {
   "cell_type": "code",
   "execution_count": 32,
   "metadata": {},
   "outputs": [
    {
     "name": "stdout",
     "output_type": "stream",
     "text": [
      "[[1436    0]\n",
      " [ 565    0]]\n",
      "[[5653    0]\n",
      " [2347    0]]\n"
     ]
    }
   ],
   "source": [
    "from sklearn.metrics import confusion_matrix\n",
    "print(confusion_matrix(y_test, Predictions))\n",
    "print(confusion_matrix(y_train, train_pred))"
   ]
  },
  {
   "cell_type": "code",
   "execution_count": 33,
   "metadata": {},
   "outputs": [
    {
     "name": "stdout",
     "output_type": "stream",
     "text": [
      "0.7176411794102948\n",
      "0.706625\n"
     ]
    }
   ],
   "source": [
    "from sklearn.metrics import accuracy_score\n",
    "print(accuracy_score(y_test, Predictions))\n",
    "print(accuracy_score(y_train, train_pred))"
   ]
  },
  {
   "cell_type": "code",
   "execution_count": 34,
   "metadata": {},
   "outputs": [
    {
     "data": {
      "text/plain": [
       "array([[0.63312237, 0.36687763],\n",
       "       [0.77178714, 0.22821286],\n",
       "       [0.69877978, 0.30122022],\n",
       "       ...,\n",
       "       [0.76926073, 0.23073927],\n",
       "       [0.69083145, 0.30916855],\n",
       "       [0.63847329, 0.36152671]])"
      ]
     },
     "execution_count": 34,
     "metadata": {},
     "output_type": "execute_result"
    }
   ],
   "source": [
    "logmodel.predict_proba(X_test)"
   ]
  },
  {
   "cell_type": "code",
   "execution_count": 35,
   "metadata": {},
   "outputs": [
    {
     "data": {
      "text/plain": [
       "{1}"
      ]
     },
     "execution_count": 35,
     "metadata": {},
     "output_type": "execute_result"
    }
   ],
   "source": [
    "set(y_test)-set(Predictions)"
   ]
  },
  {
   "cell_type": "code",
   "execution_count": null,
   "metadata": {},
   "outputs": [],
   "source": []
  }
 ],
 "metadata": {
  "kernelspec": {
   "display_name": "Python 3",
   "language": "python",
   "name": "python3"
  },
  "language_info": {
   "codemirror_mode": {
    "name": "ipython",
    "version": 3
   },
   "file_extension": ".py",
   "mimetype": "text/x-python",
   "name": "python",
   "nbconvert_exporter": "python",
   "pygments_lexer": "ipython3",
   "version": "3.6.4"
  }
 },
 "nbformat": 4,
 "nbformat_minor": 2
}
